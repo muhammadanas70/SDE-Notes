{
 "cells": [
  {
   "cell_type": "code",
   "execution_count": 13,
   "id": "1fa40c7d",
   "metadata": {},
   "outputs": [
    {
     "name": "stdout",
     "output_type": "stream",
     "text": [
      "Calling fibonacci with args: (5,)\n",
      "Calling fibonacci with args: (4,)\n",
      "Calling fibonacci with args: (3,)\n",
      "Calling fibonacci with args: (2,)\n",
      "Calling fibonacci with args: (1,)\n",
      "Calling fibonacci with args: (0,)\n",
      "Calling fibonacci with args: (1,)\n",
      "Calling fibonacci with args: (2,)\n",
      "Calling fibonacci with args: (3,)\n",
      "fibonacci(5) = 5\n",
      "Cache size: 6\n"
     ]
    }
   ],
   "source": [
    "def manual_memoize(func):\n",
    "    \"\"\"Manual memoization decorator using a dictionary cache.\"\"\"\n",
    "    cache = {}\n",
    "    \n",
    "    \n",
    "    def wrapper(*args, **kwargs):\n",
    "        print(f\"Calling {func.__name__} with args: {args}\")\n",
    "        if args in cache:\n",
    "            return cache[args]\n",
    "        result = func(*args, **kwargs)\n",
    "        cache[args] = result\n",
    "        return result\n",
    "    \n",
    "    wrapper.cache = cache\n",
    "    wrapper.cache_clear = lambda: cache.clear()\n",
    "    return wrapper\n",
    "\n",
    "# Example usage\n",
    "@manual_memoize\n",
    "def fibonacci(n):\n",
    "    if n < 2:\n",
    "        return n\n",
    "    return fibonacci(n - 1) + fibonacci(n - 2)\n",
    "\n",
    "# Test the function\n",
    "print(f\"fibonacci(5) = {fibonacci(5)}\")\n",
    "print(f\"Cache size: {len(fibonacci.cache)}\")"
   ]
  },
  {
   "cell_type": "code",
   "execution_count": null,
   "id": "591c7249",
   "metadata": {},
   "outputs": [],
   "source": []
  }
 ],
 "metadata": {
  "kernelspec": {
   "display_name": ".venv (3.13.7)",
   "language": "python",
   "name": "python3"
  },
  "language_info": {
   "codemirror_mode": {
    "name": "ipython",
    "version": 3
   },
   "file_extension": ".py",
   "mimetype": "text/x-python",
   "name": "python",
   "nbconvert_exporter": "python",
   "pygments_lexer": "ipython3",
   "version": "3.13.7"
  }
 },
 "nbformat": 4,
 "nbformat_minor": 5
}
