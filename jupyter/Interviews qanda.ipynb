{
 "cells": [
  {
   "cell_type": "code",
   "execution_count": null,
   "id": "ed9c608f",
   "metadata": {},
   "outputs": [],
   "source": [
    "arr_1 = [1, 4, 20, 3, 10, 5]"
   ]
  },
  {
   "cell_type": "code",
   "execution_count": null,
   "id": "8b612166",
   "metadata": {},
   "outputs": [],
   "source": [
    "arr_1 = [1, 4, 20, 3, 10, 5]\n",
    "#sum 33\n",
    "\n",
    "def sum_sub_arr(arr_1):\n",
    "\tsum = 0\n",
    "\tarr_2 = []\n",
    "    for i in arr_1:\n",
    "\tif i == 33:\n",
    "\t\treturn arr[i]\n",
    "        elif (33 - i) :\n",
    "\t\t\n",
    "\t\ttemp = i\n",
    "\t\tsum = temp + sum\n",
    "\t\t\n",
    "---\n",
    "\n",
    "arr_0 = [3, 10, 25] \n",
    "arr_1 = [7, 45, 100]\n",
    "\n",
    "def com_arr_merge_sort(arr_0, arr_1):\n",
    "\tarr_sorted = []\n",
    "\tfor i in arr_0:\n",
    "\t\tfor j in arr_1:\n",
    "\t\t\tif i < j:\n",
    "\t\t\t\tarr_sorted.append[i]\n",
    "\t\t\t\tarr_sorted.append[j]\n",
    "\t\t\telif j < i:\n",
    "\t\t\t\t\n",
    "\t\t\t\t\n"
   ]
  },
  {
   "cell_type": "code",
   "execution_count": null,
   "id": "1c2f9c4a",
   "metadata": {},
   "outputs": [],
   "source": [
    "import unittest\n",
    "\n",
    "\n",
    "anagram\n",
    "list comprehension\n",
    "list slicing\n",
    "sort()\n",
    "nested list in to one list\n",
    "dependency injection in fastapi\n",
    "pydantic model in fastapi\n",
    "code documentation\n",
    "unittest and integration testing\n",
    "cap theorem \n",
    "\n"
   ]
  }
 ],
 "metadata": {
  "language_info": {
   "name": "python"
  }
 },
 "nbformat": 4,
 "nbformat_minor": 5
}
