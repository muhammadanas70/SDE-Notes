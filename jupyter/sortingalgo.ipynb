{
 "cells": [
  {
   "cell_type": "code",
   "execution_count": 3,
   "id": "1efc2cfd",
   "metadata": {},
   "outputs": [
    {
     "name": "stdout",
     "output_type": "stream",
     "text": [
      "Original: [64, 34, 25, 12, 22, 11, 90]\n",
      "len:  7\n",
      "n - i - 1:  6\n",
      "n - i - 1:  6\n",
      "n - i - 1:  6\n",
      "n - i - 1:  6\n",
      "n - i - 1:  6\n",
      "n - i - 1:  6\n",
      "n - i - 1:  5\n",
      "n - i - 1:  5\n",
      "n - i - 1:  5\n",
      "n - i - 1:  5\n",
      "n - i - 1:  5\n",
      "n - i - 1:  4\n",
      "n - i - 1:  4\n",
      "n - i - 1:  4\n",
      "n - i - 1:  4\n",
      "n - i - 1:  3\n",
      "n - i - 1:  3\n",
      "n - i - 1:  3\n",
      "n - i - 1:  2\n",
      "n - i - 1:  2\n",
      "n - i - 1:  1\n",
      "Sorted: [11, 12, 22, 25, 34, 64, 90]\n"
     ]
    }
   ],
   "source": [
    "def bubble_sort(arr):\n",
    "    n = len(arr)\n",
    "    print(\"len: \", n)\n",
    "    for i in range(n):\n",
    "        for j in range(0, n - i - 1):\n",
    "            print(\"n - i - 1: \", n - i - 1)\n",
    "            if arr[j] > arr[j + 1]:\n",
    "                arr[j], arr[j + 1] = arr[j + 1], arr[j]\n",
    "    return arr\n",
    "\n",
    "# Example usage\n",
    "numbers = [64, 34, 25, 12, 22, 11, 90]\n",
    "print(f\"Original: {numbers}\")\n",
    "print(f\"Sorted: {bubble_sort(numbers.copy())}\")\n",
    "\n"
   ]
  },
  {
   "cell_type": "code",
   "execution_count": 1,
   "id": "4c69d40d",
   "metadata": {},
   "outputs": [
    {
     "name": "stdout",
     "output_type": "stream",
     "text": [
      "Original: [64, 34, 25, 12, 22, 11, 90]\n",
      "Sorted (Ascending): [11, 12, 22, 25, 34, 64, 90]\n"
     ]
    }
   ],
   "source": [
    "def bubble_sort_basic(arr):\n",
    "    \"\"\"\n",
    "    Basic bubble sort implementation - ascending order\n",
    "    Time: O(n²), Space: O(1)\n",
    "    \"\"\"\n",
    "    n = len(arr)\n",
    "    \n",
    "    # Traverse through all array elements\n",
    "    for i in range(n):\n",
    "        # Last i elements are already in place\n",
    "        for j in range(0, n - i - 1):\n",
    "            # Swap if the element found is greater than the next element\n",
    "            if arr[j] > arr[j + 1]:\n",
    "                arr[j], arr[j + 1] = arr[j + 1], arr[j]\n",
    "    \n",
    "    return arr\n",
    "\n",
    "# Example usage\n",
    "arr = [64, 34, 25, 12, 22, 11, 90]\n",
    "print(\"Original:\", arr)\n",
    "sorted_arr = bubble_sort_basic(arr.copy())\n",
    "print(\"Sorted (Ascending):\", sorted_arr)"
   ]
  },
  {
   "cell_type": "code",
   "execution_count": 3,
   "id": "4ede7b5d",
   "metadata": {},
   "outputs": [
    {
     "name": "stdout",
     "output_type": "stream",
     "text": [
      "Sorted (Descending): [90, 64, 34, 25, 22, 12, 11]\n"
     ]
    }
   ],
   "source": [
    "def bubble_sort_descending(arr):\n",
    "    \"\"\"\n",
    "    Bubble sort for descending order\n",
    "    \"\"\"\n",
    "    n = len(arr)\n",
    "    \n",
    "    for i in range(n):\n",
    "        for j in range(0, n - i - 1):\n",
    "            # Change comparison for descending order\n",
    "            if arr[j] < arr[j + 1]:\n",
    "                arr[j], arr[j + 1] = arr[j + 1], arr[j]\n",
    "    \n",
    "    return arr\n",
    "\n",
    "# Example usage\n",
    "arr = [64, 34, 25, 12, 22, 11, 90]\n",
    "print(\"Sorted (Descending):\", bubble_sort_descending(arr.copy()))"
   ]
  },
  {
   "cell_type": "code",
   "execution_count": 1,
   "id": "4e91b389",
   "metadata": {},
   "outputs": [
    {
     "name": "stdout",
     "output_type": "stream",
     "text": [
      "Original: [64, 25, 12, 22, 11]\n",
      "Sorted (Ascending): [11, 12, 22, 25, 64]\n"
     ]
    }
   ],
   "source": [
    "def selection_sort_asc(arr):\n",
    "    \"\"\"Standard ascending selection sort\"\"\"\n",
    "    n = len(arr)\n",
    "    for i in range(n):\n",
    "        min_idx = i\n",
    "        for j in range(i + 1, n):\n",
    "            if arr[j] < arr[min_idx]:\n",
    "                min_idx = j\n",
    "        arr[i], arr[min_idx] = arr[min_idx], arr[i]\n",
    "    return arr\n",
    "\n",
    "# Example usage\n",
    "numbers = [64, 25, 12, 22, 11]\n",
    "print(f\"Original: {numbers}\")\n",
    "print(f\"Sorted (Ascending): {selection_sort_asc(numbers.copy())}\")"
   ]
  },
  {
   "cell_type": "code",
   "execution_count": null,
   "id": "a1ae96c0",
   "metadata": {},
   "outputs": [],
   "source": []
  }
 ],
 "metadata": {
  "kernelspec": {
   "display_name": ".venv (3.13.6)",
   "language": "python",
   "name": "python3"
  },
  "language_info": {
   "codemirror_mode": {
    "name": "ipython",
    "version": 3
   },
   "file_extension": ".py",
   "mimetype": "text/x-python",
   "name": "python",
   "nbconvert_exporter": "python",
   "pygments_lexer": "ipython3",
   "version": "3.13.6"
  }
 },
 "nbformat": 4,
 "nbformat_minor": 5
}
