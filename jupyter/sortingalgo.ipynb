{
 "cells": [
  {
   "cell_type": "code",
   "execution_count": 1,
   "id": "1efc2cfd",
   "metadata": {},
   "outputs": [
    {
     "name": "stdout",
     "output_type": "stream",
     "text": [
      "Original: [64, 34, 25, 12, 22, 11, 90]\n",
      "Sorted: [11, 12, 22, 25, 34, 64, 90]\n"
     ]
    }
   ],
   "source": [
    "def bubble_sort(arr):\n",
    "    n = len(arr)\n",
    "    for i in range(n):\n",
    "        for j in range(0, n - i - 1):\n",
    "            if arr[j] > arr[j + 1]:\n",
    "                arr[j], arr[j + 1] = arr[j + 1], arr[j]\n",
    "    return arr\n",
    "\n",
    "# Example usage\n",
    "numbers = [64, 34, 25, 12, 22, 11, 90]\n",
    "print(f\"Original: {numbers}\")\n",
    "print(f\"Sorted: {bubble_sort(numbers.copy())}\")"
   ]
  },
  {
   "cell_type": "code",
   "execution_count": 2,
   "id": "4c69d40d",
   "metadata": {},
   "outputs": [
    {
     "name": "stdout",
     "output_type": "stream",
     "text": [
      "Original: [64, 34, 25, 12, 22, 11, 90]\n",
      "Sorted (Ascending): [11, 12, 22, 25, 34, 64, 90]\n"
     ]
    }
   ],
   "source": [
    "def bubble_sort_basic(arr):\n",
    "    \"\"\"\n",
    "    Basic bubble sort implementation - ascending order\n",
    "    Time: O(n²), Space: O(1)\n",
    "    \"\"\"\n",
    "    n = len(arr)\n",
    "    \n",
    "    # Traverse through all array elements\n",
    "    for i in range(n):\n",
    "        # Last i elements are already in place\n",
    "        for j in range(0, n - i - 1):\n",
    "            # Swap if the element found is greater than the next element\n",
    "            if arr[j] > arr[j + 1]:\n",
    "                arr[j], arr[j + 1] = arr[j + 1], arr[j]\n",
    "    \n",
    "    return arr\n",
    "\n",
    "# Example usage\n",
    "arr = [64, 34, 25, 12, 22, 11, 90]\n",
    "print(\"Original:\", arr)\n",
    "sorted_arr = bubble_sort_basic(arr.copy())\n",
    "print(\"Sorted (Ascending):\", sorted_arr)"
   ]
  },
  {
   "cell_type": "code",
   "execution_count": 3,
   "id": "4ede7b5d",
   "metadata": {},
   "outputs": [
    {
     "name": "stdout",
     "output_type": "stream",
     "text": [
      "Sorted (Descending): [90, 64, 34, 25, 22, 12, 11]\n"
     ]
    }
   ],
   "source": [
    "def bubble_sort_descending(arr):\n",
    "    \"\"\"\n",
    "    Bubble sort for descending order\n",
    "    \"\"\"\n",
    "    n = len(arr)\n",
    "    \n",
    "    for i in range(n):\n",
    "        for j in range(0, n - i - 1):\n",
    "            # Change comparison for descending order\n",
    "            if arr[j] < arr[j + 1]:\n",
    "                arr[j], arr[j + 1] = arr[j + 1], arr[j]\n",
    "    \n",
    "    return arr\n",
    "\n",
    "# Example usage\n",
    "arr = [64, 34, 25, 12, 22, 11, 90]\n",
    "print(\"Sorted (Descending):\", bubble_sort_descending(arr.copy()))"
   ]
  }
 ],
 "metadata": {
  "kernelspec": {
   "display_name": "Python 3 (ipykernel)",
   "language": "python",
   "name": "python3"
  }
 },
 "nbformat": 4,
 "nbformat_minor": 5
}
