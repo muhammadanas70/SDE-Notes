{
 "cells": [
  {
   "cell_type": "code",
   "execution_count": null,
   "metadata": {},
   "outputs": [],
   "source": [
    "\n",
    "### Example 1: Initial List Creation and Appending\n",
    "\n",
    "\n",
    "import sys\n",
    "\n",
    "# Create an empty list\n",
    "my_list = []\n",
    "print(f\"Initial size of empty list: {sys.getsizeof(my_list)} bytes\")\n",
    "\n",
    "# Append elements to the list\n",
    "for i in range(10):\n",
    "    my_list.append(i)\n",
    "    print(f\"Size after appending {i}: {sys.getsizeof(my_list)} bytes\")\n",
    "\n"
   ]
  }
 ],
 "metadata": {
  "kernelspec": {
   "display_name": "Python 3",
   "language": "python",
   "name": "python3"
  },
  "language_info": {
   "codemirror_mode": {
    "name": "ipython",
    "version": 3
   },
   "file_extension": ".py",
   "mimetype": "text/x-python",
   "name": "python",
   "nbconvert_exporter": "python",
   "pygments_lexer": "ipython3",
   "version": "3.10.11"
  }
 },
 "nbformat": 4,
 "nbformat_minor": 2
}
